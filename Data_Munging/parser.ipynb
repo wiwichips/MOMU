{
 "cells": [
  {
   "cell_type": "code",
   "execution_count": 1,
   "metadata": {
    "tags": []
   },
   "outputs": [],
   "source": [
    "# import libraries\n",
    "import pandas as pd\n",
    "import numpy as np\n",
    "import os"
   ]
  },
  {
   "cell_type": "code",
   "execution_count": 2,
   "metadata": {},
   "outputs": [
    {
     "output_type": "execute_result",
     "data": {
      "text/plain": "      tconst  isAdult startYear runtimeMinutes                  genres\n0  tt0000009        0      1894             45                 Romance\n1  tt0000147        0      1897             20  Documentary,News,Sport\n2  tt0000335        0      1900             \\N         Biography,Drama\n3  tt0000502        0      1905            100                      \\N\n4  tt0000574        0      1906             70   Biography,Crime,Drama",
      "text/html": "<div>\n<style scoped>\n    .dataframe tbody tr th:only-of-type {\n        vertical-align: middle;\n    }\n\n    .dataframe tbody tr th {\n        vertical-align: top;\n    }\n\n    .dataframe thead th {\n        text-align: right;\n    }\n</style>\n<table border=\"1\" class=\"dataframe\">\n  <thead>\n    <tr style=\"text-align: right;\">\n      <th></th>\n      <th>tconst</th>\n      <th>isAdult</th>\n      <th>startYear</th>\n      <th>runtimeMinutes</th>\n      <th>genres</th>\n    </tr>\n  </thead>\n  <tbody>\n    <tr>\n      <th>0</th>\n      <td>tt0000009</td>\n      <td>0</td>\n      <td>1894</td>\n      <td>45</td>\n      <td>Romance</td>\n    </tr>\n    <tr>\n      <th>1</th>\n      <td>tt0000147</td>\n      <td>0</td>\n      <td>1897</td>\n      <td>20</td>\n      <td>Documentary,News,Sport</td>\n    </tr>\n    <tr>\n      <th>2</th>\n      <td>tt0000335</td>\n      <td>0</td>\n      <td>1900</td>\n      <td>\\N</td>\n      <td>Biography,Drama</td>\n    </tr>\n    <tr>\n      <th>3</th>\n      <td>tt0000502</td>\n      <td>0</td>\n      <td>1905</td>\n      <td>100</td>\n      <td>\\N</td>\n    </tr>\n    <tr>\n      <th>4</th>\n      <td>tt0000574</td>\n      <td>0</td>\n      <td>1906</td>\n      <td>70</td>\n      <td>Biography,Crime,Drama</td>\n    </tr>\n  </tbody>\n</table>\n</div>"
     },
     "metadata": {},
     "execution_count": 2
    }
   ],
   "source": [
    "# read movie basics csv ignoring some columns\n",
    "movieBasics = pd.read_csv('./input/movieBasics.csv', usecols=['tconst', 'isAdult', 'startYear', 'runtimeMinutes', 'genres'])\n",
    "movieBasics.head()"
   ]
  },
  {
   "cell_type": "code",
   "execution_count": 3,
   "metadata": {},
   "outputs": [
    {
     "output_type": "execute_result",
     "data": {
      "text/plain": "            tconst  averageRating  numVotes\n81166    tt0111161            9.3   2270157\n244017   tt0468569            9.0   2233191\n553453   tt1375666            8.8   1991458\n97366    tt0137523            8.8   1801220\n80950    tt0110912            8.9   1774104\n...            ...            ...       ...\n621085   tt1756261            8.4         5\n186699   tt0327571            6.4         5\n896960   tt5693174            9.0         5\n505366  tt11861042            6.6         5\n737945   tt2881328            4.2         5\n\n[1061121 rows x 3 columns]",
      "text/html": "<div>\n<style scoped>\n    .dataframe tbody tr th:only-of-type {\n        vertical-align: middle;\n    }\n\n    .dataframe tbody tr th {\n        vertical-align: top;\n    }\n\n    .dataframe thead th {\n        text-align: right;\n    }\n</style>\n<table border=\"1\" class=\"dataframe\">\n  <thead>\n    <tr style=\"text-align: right;\">\n      <th></th>\n      <th>tconst</th>\n      <th>averageRating</th>\n      <th>numVotes</th>\n    </tr>\n  </thead>\n  <tbody>\n    <tr>\n      <th>81166</th>\n      <td>tt0111161</td>\n      <td>9.3</td>\n      <td>2270157</td>\n    </tr>\n    <tr>\n      <th>244017</th>\n      <td>tt0468569</td>\n      <td>9.0</td>\n      <td>2233191</td>\n    </tr>\n    <tr>\n      <th>553453</th>\n      <td>tt1375666</td>\n      <td>8.8</td>\n      <td>1991458</td>\n    </tr>\n    <tr>\n      <th>97366</th>\n      <td>tt0137523</td>\n      <td>8.8</td>\n      <td>1801220</td>\n    </tr>\n    <tr>\n      <th>80950</th>\n      <td>tt0110912</td>\n      <td>8.9</td>\n      <td>1774104</td>\n    </tr>\n    <tr>\n      <th>...</th>\n      <td>...</td>\n      <td>...</td>\n      <td>...</td>\n    </tr>\n    <tr>\n      <th>621085</th>\n      <td>tt1756261</td>\n      <td>8.4</td>\n      <td>5</td>\n    </tr>\n    <tr>\n      <th>186699</th>\n      <td>tt0327571</td>\n      <td>6.4</td>\n      <td>5</td>\n    </tr>\n    <tr>\n      <th>896960</th>\n      <td>tt5693174</td>\n      <td>9.0</td>\n      <td>5</td>\n    </tr>\n    <tr>\n      <th>505366</th>\n      <td>tt11861042</td>\n      <td>6.6</td>\n      <td>5</td>\n    </tr>\n    <tr>\n      <th>737945</th>\n      <td>tt2881328</td>\n      <td>4.2</td>\n      <td>5</td>\n    </tr>\n  </tbody>\n</table>\n<p>1061121 rows × 3 columns</p>\n</div>"
     },
     "metadata": {},
     "execution_count": 3
    }
   ],
   "source": [
    "# set up ratings table\n",
    "ratings = pd.read_csv('./input/title.ratings.tsv', sep=\"\\t\")\n",
    "ratings.sort_values(by=['numVotes'], ascending=False)"
   ]
  },
  {
   "cell_type": "code",
   "execution_count": 4,
   "metadata": {},
   "outputs": [
    {
     "output_type": "execute_result",
     "data": {
      "text/plain": "      tconst  directors writers\n0  tt0000001  nm0005690      \\N\n1  tt0000002  nm0721526      \\N\n2  tt0000003  nm0721526      \\N\n3  tt0000004  nm0721526      \\N\n4  tt0000005  nm0005690      \\N",
      "text/html": "<div>\n<style scoped>\n    .dataframe tbody tr th:only-of-type {\n        vertical-align: middle;\n    }\n\n    .dataframe tbody tr th {\n        vertical-align: top;\n    }\n\n    .dataframe thead th {\n        text-align: right;\n    }\n</style>\n<table border=\"1\" class=\"dataframe\">\n  <thead>\n    <tr style=\"text-align: right;\">\n      <th></th>\n      <th>tconst</th>\n      <th>directors</th>\n      <th>writers</th>\n    </tr>\n  </thead>\n  <tbody>\n    <tr>\n      <th>0</th>\n      <td>tt0000001</td>\n      <td>nm0005690</td>\n      <td>\\N</td>\n    </tr>\n    <tr>\n      <th>1</th>\n      <td>tt0000002</td>\n      <td>nm0721526</td>\n      <td>\\N</td>\n    </tr>\n    <tr>\n      <th>2</th>\n      <td>tt0000003</td>\n      <td>nm0721526</td>\n      <td>\\N</td>\n    </tr>\n    <tr>\n      <th>3</th>\n      <td>tt0000004</td>\n      <td>nm0721526</td>\n      <td>\\N</td>\n    </tr>\n    <tr>\n      <th>4</th>\n      <td>tt0000005</td>\n      <td>nm0005690</td>\n      <td>\\N</td>\n    </tr>\n  </tbody>\n</table>\n</div>"
     },
     "metadata": {},
     "execution_count": 4
    }
   ],
   "source": [
    "# set up crew table\n",
    "crew = pd.read_csv('./input/title.crew.tsv', sep='\\t')\n",
    "crew.head()"
   ]
  },
  {
   "cell_type": "code",
   "execution_count": 5,
   "metadata": {},
   "outputs": [
    {
     "output_type": "execute_result",
     "data": {
      "text/plain": "      tconst     nconst         category\n0  tt0000001  nm1588970             self\n1  tt0000001  nm0005690         director\n2  tt0000001  nm0374658  cinematographer\n3  tt0000002  nm0721526         director\n4  tt0000002  nm1335271         composer",
      "text/html": "<div>\n<style scoped>\n    .dataframe tbody tr th:only-of-type {\n        vertical-align: middle;\n    }\n\n    .dataframe tbody tr th {\n        vertical-align: top;\n    }\n\n    .dataframe thead th {\n        text-align: right;\n    }\n</style>\n<table border=\"1\" class=\"dataframe\">\n  <thead>\n    <tr style=\"text-align: right;\">\n      <th></th>\n      <th>tconst</th>\n      <th>nconst</th>\n      <th>category</th>\n    </tr>\n  </thead>\n  <tbody>\n    <tr>\n      <th>0</th>\n      <td>tt0000001</td>\n      <td>nm1588970</td>\n      <td>self</td>\n    </tr>\n    <tr>\n      <th>1</th>\n      <td>tt0000001</td>\n      <td>nm0005690</td>\n      <td>director</td>\n    </tr>\n    <tr>\n      <th>2</th>\n      <td>tt0000001</td>\n      <td>nm0374658</td>\n      <td>cinematographer</td>\n    </tr>\n    <tr>\n      <th>3</th>\n      <td>tt0000002</td>\n      <td>nm0721526</td>\n      <td>director</td>\n    </tr>\n    <tr>\n      <th>4</th>\n      <td>tt0000002</td>\n      <td>nm1335271</td>\n      <td>composer</td>\n    </tr>\n  </tbody>\n</table>\n</div>"
     },
     "metadata": {},
     "execution_count": 5
    }
   ],
   "source": [
    "# set up the principles table\n",
    "prin = pd.read_csv('./input/titlePrinciples.tsv', sep='\\t', usecols=['tconst', 'nconst', 'category'])\n",
    "prin.head()"
   ]
  },
  {
   "cell_type": "code",
   "execution_count": 6,
   "metadata": {},
   "outputs": [
    {
     "output_type": "execute_result",
     "data": {
      "text/plain": "       tconst     nconst\n11  tt0000005  nm0443482\n12  tt0000005  nm0653042\n16  tt0000007  nm0179163\n17  tt0000007  nm0183947\n21  tt0000008  nm0653028",
      "text/html": "<div>\n<style scoped>\n    .dataframe tbody tr th:only-of-type {\n        vertical-align: middle;\n    }\n\n    .dataframe tbody tr th {\n        vertical-align: top;\n    }\n\n    .dataframe thead th {\n        text-align: right;\n    }\n</style>\n<table border=\"1\" class=\"dataframe\">\n  <thead>\n    <tr style=\"text-align: right;\">\n      <th></th>\n      <th>tconst</th>\n      <th>nconst</th>\n    </tr>\n  </thead>\n  <tbody>\n    <tr>\n      <th>11</th>\n      <td>tt0000005</td>\n      <td>nm0443482</td>\n    </tr>\n    <tr>\n      <th>12</th>\n      <td>tt0000005</td>\n      <td>nm0653042</td>\n    </tr>\n    <tr>\n      <th>16</th>\n      <td>tt0000007</td>\n      <td>nm0179163</td>\n    </tr>\n    <tr>\n      <th>17</th>\n      <td>tt0000007</td>\n      <td>nm0183947</td>\n    </tr>\n    <tr>\n      <th>21</th>\n      <td>tt0000008</td>\n      <td>nm0653028</td>\n    </tr>\n  </tbody>\n</table>\n</div>"
     },
     "metadata": {},
     "execution_count": 6
    }
   ],
   "source": [
    "# condense title principles into a smaller table that only has actors\n",
    "actorPrin = prin[prin.category == 'actor']\n",
    "actorPrin = actorPrin.drop(['category'], axis=1)\n",
    "actorPrin.head()"
   ]
  },
  {
   "cell_type": "code",
   "execution_count": 7,
   "metadata": {},
   "outputs": [
    {
     "output_type": "execute_result",
     "data": {
      "text/plain": "      tconst               nconst\n0  tt0000005  nm0443482,nm0653042\n1  tt0000007  nm0179163,nm0183947\n2  tt0000008            nm0653028\n3  tt0000009  nm0183823,nm1309758\n4  tt0000011            nm3692297",
      "text/html": "<div>\n<style scoped>\n    .dataframe tbody tr th:only-of-type {\n        vertical-align: middle;\n    }\n\n    .dataframe tbody tr th {\n        vertical-align: top;\n    }\n\n    .dataframe thead th {\n        text-align: right;\n    }\n</style>\n<table border=\"1\" class=\"dataframe\">\n  <thead>\n    <tr style=\"text-align: right;\">\n      <th></th>\n      <th>tconst</th>\n      <th>nconst</th>\n    </tr>\n  </thead>\n  <tbody>\n    <tr>\n      <th>0</th>\n      <td>tt0000005</td>\n      <td>nm0443482,nm0653042</td>\n    </tr>\n    <tr>\n      <th>1</th>\n      <td>tt0000007</td>\n      <td>nm0179163,nm0183947</td>\n    </tr>\n    <tr>\n      <th>2</th>\n      <td>tt0000008</td>\n      <td>nm0653028</td>\n    </tr>\n    <tr>\n      <th>3</th>\n      <td>tt0000009</td>\n      <td>nm0183823,nm1309758</td>\n    </tr>\n    <tr>\n      <th>4</th>\n      <td>tt0000011</td>\n      <td>nm3692297</td>\n    </tr>\n  </tbody>\n</table>\n</div>"
     },
     "metadata": {},
     "execution_count": 7
    }
   ],
   "source": [
    "# put multiple actors on one line\n",
    "actors = actorPrin.groupby('tconst')['nconst'].apply(','.join).reset_index()\n",
    "actors.head()"
   ]
  },
  {
   "cell_type": "code",
   "execution_count": 8,
   "metadata": {},
   "outputs": [
    {
     "output_type": "execute_result",
     "data": {
      "text/plain": "      tconst  isAdult startYear runtimeMinutes                  genres  \\\n0  tt0000009        0      1894             45                 Romance   \n1  tt0000147        0      1897             20  Documentary,News,Sport   \n2  tt0000335        0      1900             \\N         Biography,Drama   \n3  tt0000502        0      1905            100                      \\N   \n4  tt0000574        0      1906             70   Biography,Crime,Drama   \n\n   averageRating  numVotes  \n0            5.9     154.0  \n1            5.2     355.0  \n2            6.1      41.0  \n3            3.8       6.0  \n4            6.1     588.0  ",
      "text/html": "<div>\n<style scoped>\n    .dataframe tbody tr th:only-of-type {\n        vertical-align: middle;\n    }\n\n    .dataframe tbody tr th {\n        vertical-align: top;\n    }\n\n    .dataframe thead th {\n        text-align: right;\n    }\n</style>\n<table border=\"1\" class=\"dataframe\">\n  <thead>\n    <tr style=\"text-align: right;\">\n      <th></th>\n      <th>tconst</th>\n      <th>isAdult</th>\n      <th>startYear</th>\n      <th>runtimeMinutes</th>\n      <th>genres</th>\n      <th>averageRating</th>\n      <th>numVotes</th>\n    </tr>\n  </thead>\n  <tbody>\n    <tr>\n      <th>0</th>\n      <td>tt0000009</td>\n      <td>0</td>\n      <td>1894</td>\n      <td>45</td>\n      <td>Romance</td>\n      <td>5.9</td>\n      <td>154.0</td>\n    </tr>\n    <tr>\n      <th>1</th>\n      <td>tt0000147</td>\n      <td>0</td>\n      <td>1897</td>\n      <td>20</td>\n      <td>Documentary,News,Sport</td>\n      <td>5.2</td>\n      <td>355.0</td>\n    </tr>\n    <tr>\n      <th>2</th>\n      <td>tt0000335</td>\n      <td>0</td>\n      <td>1900</td>\n      <td>\\N</td>\n      <td>Biography,Drama</td>\n      <td>6.1</td>\n      <td>41.0</td>\n    </tr>\n    <tr>\n      <th>3</th>\n      <td>tt0000502</td>\n      <td>0</td>\n      <td>1905</td>\n      <td>100</td>\n      <td>\\N</td>\n      <td>3.8</td>\n      <td>6.0</td>\n    </tr>\n    <tr>\n      <th>4</th>\n      <td>tt0000574</td>\n      <td>0</td>\n      <td>1906</td>\n      <td>70</td>\n      <td>Biography,Crime,Drama</td>\n      <td>6.1</td>\n      <td>588.0</td>\n    </tr>\n  </tbody>\n</table>\n</div>"
     },
     "metadata": {},
     "execution_count": 8
    }
   ],
   "source": [
    "df1 = pd.merge(movieBasics,ratings,on='tconst',how='left')\n",
    "df1.head()"
   ]
  },
  {
   "cell_type": "code",
   "execution_count": 9,
   "metadata": {},
   "outputs": [
    {
     "output_type": "execute_result",
     "data": {
      "text/plain": "      tconst  isAdult startYear runtimeMinutes                  genres  \\\n0  tt0000009        0      1894             45                 Romance   \n1  tt0000147        0      1897             20  Documentary,News,Sport   \n2  tt0000335        0      1900             \\N         Biography,Drama   \n3  tt0000502        0      1905            100                      \\N   \n4  tt0000574        0      1906             70   Biography,Crime,Drama   \n\n   averageRating  numVotes            directors                        writers  \n0            5.9     154.0            nm0085156                      nm0085156  \n1            5.2     355.0            nm0714557                             \\N  \n2            6.1      41.0  nm0095714,nm0675140                             \\N  \n3            3.8       6.0            nm0063413  nm0063413,nm0657268,nm0675388  \n4            6.1     588.0            nm0846879                      nm0846879  ",
      "text/html": "<div>\n<style scoped>\n    .dataframe tbody tr th:only-of-type {\n        vertical-align: middle;\n    }\n\n    .dataframe tbody tr th {\n        vertical-align: top;\n    }\n\n    .dataframe thead th {\n        text-align: right;\n    }\n</style>\n<table border=\"1\" class=\"dataframe\">\n  <thead>\n    <tr style=\"text-align: right;\">\n      <th></th>\n      <th>tconst</th>\n      <th>isAdult</th>\n      <th>startYear</th>\n      <th>runtimeMinutes</th>\n      <th>genres</th>\n      <th>averageRating</th>\n      <th>numVotes</th>\n      <th>directors</th>\n      <th>writers</th>\n    </tr>\n  </thead>\n  <tbody>\n    <tr>\n      <th>0</th>\n      <td>tt0000009</td>\n      <td>0</td>\n      <td>1894</td>\n      <td>45</td>\n      <td>Romance</td>\n      <td>5.9</td>\n      <td>154.0</td>\n      <td>nm0085156</td>\n      <td>nm0085156</td>\n    </tr>\n    <tr>\n      <th>1</th>\n      <td>tt0000147</td>\n      <td>0</td>\n      <td>1897</td>\n      <td>20</td>\n      <td>Documentary,News,Sport</td>\n      <td>5.2</td>\n      <td>355.0</td>\n      <td>nm0714557</td>\n      <td>\\N</td>\n    </tr>\n    <tr>\n      <th>2</th>\n      <td>tt0000335</td>\n      <td>0</td>\n      <td>1900</td>\n      <td>\\N</td>\n      <td>Biography,Drama</td>\n      <td>6.1</td>\n      <td>41.0</td>\n      <td>nm0095714,nm0675140</td>\n      <td>\\N</td>\n    </tr>\n    <tr>\n      <th>3</th>\n      <td>tt0000502</td>\n      <td>0</td>\n      <td>1905</td>\n      <td>100</td>\n      <td>\\N</td>\n      <td>3.8</td>\n      <td>6.0</td>\n      <td>nm0063413</td>\n      <td>nm0063413,nm0657268,nm0675388</td>\n    </tr>\n    <tr>\n      <th>4</th>\n      <td>tt0000574</td>\n      <td>0</td>\n      <td>1906</td>\n      <td>70</td>\n      <td>Biography,Crime,Drama</td>\n      <td>6.1</td>\n      <td>588.0</td>\n      <td>nm0846879</td>\n      <td>nm0846879</td>\n    </tr>\n  </tbody>\n</table>\n</div>"
     },
     "metadata": {},
     "execution_count": 9
    }
   ],
   "source": [
    "df2 = pd.merge(df1,crew,on='tconst',how='left')\n",
    "df2.head()"
   ]
  },
  {
   "cell_type": "code",
   "execution_count": 10,
   "metadata": {
    "tags": []
   },
   "outputs": [
    {
     "output_type": "stream",
     "name": "stdout",
     "text": "(557550, 10)\n"
    }
   ],
   "source": [
    "df3 = pd.merge(df2,actors,on='tconst',how='left')\n",
    "df3.head()\n",
    "print(df3.shape)"
   ]
  },
  {
   "cell_type": "code",
   "execution_count": 11,
   "metadata": {
    "tags": []
   },
   "outputs": [
    {
     "output_type": "stream",
     "name": "stdout",
     "text": "(548731, 10)\n"
    }
   ],
   "source": [
    "# remove adult films\n",
    "df4 = df3[df3.isAdult == 0]\n",
    "print(df4.shape)"
   ]
  },
  {
   "cell_type": "code",
   "execution_count": 12,
   "metadata": {},
   "outputs": [
    {
     "output_type": "execute_result",
     "data": {
      "text/plain": "  startYear runtimeMinutes                  genres  averageRating  numVotes  \\\n0      1894             45                 Romance            5.9     154.0   \n1      1897             20  Documentary,News,Sport            5.2     355.0   \n2      1900             \\N         Biography,Drama            6.1      41.0   \n3      1905            100                      \\N            3.8       6.0   \n4      1906             70   Biography,Crime,Drama            6.1     588.0   \n\n             directors                        writers  \\\n0            nm0085156                      nm0085156   \n1            nm0714557                             \\N   \n2  nm0095714,nm0675140                             \\N   \n3            nm0063413  nm0063413,nm0657268,nm0675388   \n4            nm0846879                      nm0846879   \n\n                                              nconst  \n0                                nm0183823,nm1309758  \n1                                                NaN  \n2  nm1012612,nm1011210,nm1012621,nm0675239,nm0675260  \n3                                nm0215752,nm0252720  \n4                                nm0846894,nm3002376  ",
      "text/html": "<div>\n<style scoped>\n    .dataframe tbody tr th:only-of-type {\n        vertical-align: middle;\n    }\n\n    .dataframe tbody tr th {\n        vertical-align: top;\n    }\n\n    .dataframe thead th {\n        text-align: right;\n    }\n</style>\n<table border=\"1\" class=\"dataframe\">\n  <thead>\n    <tr style=\"text-align: right;\">\n      <th></th>\n      <th>startYear</th>\n      <th>runtimeMinutes</th>\n      <th>genres</th>\n      <th>averageRating</th>\n      <th>numVotes</th>\n      <th>directors</th>\n      <th>writers</th>\n      <th>nconst</th>\n    </tr>\n  </thead>\n  <tbody>\n    <tr>\n      <th>0</th>\n      <td>1894</td>\n      <td>45</td>\n      <td>Romance</td>\n      <td>5.9</td>\n      <td>154.0</td>\n      <td>nm0085156</td>\n      <td>nm0085156</td>\n      <td>nm0183823,nm1309758</td>\n    </tr>\n    <tr>\n      <th>1</th>\n      <td>1897</td>\n      <td>20</td>\n      <td>Documentary,News,Sport</td>\n      <td>5.2</td>\n      <td>355.0</td>\n      <td>nm0714557</td>\n      <td>\\N</td>\n      <td>NaN</td>\n    </tr>\n    <tr>\n      <th>2</th>\n      <td>1900</td>\n      <td>\\N</td>\n      <td>Biography,Drama</td>\n      <td>6.1</td>\n      <td>41.0</td>\n      <td>nm0095714,nm0675140</td>\n      <td>\\N</td>\n      <td>nm1012612,nm1011210,nm1012621,nm0675239,nm0675260</td>\n    </tr>\n    <tr>\n      <th>3</th>\n      <td>1905</td>\n      <td>100</td>\n      <td>\\N</td>\n      <td>3.8</td>\n      <td>6.0</td>\n      <td>nm0063413</td>\n      <td>nm0063413,nm0657268,nm0675388</td>\n      <td>nm0215752,nm0252720</td>\n    </tr>\n    <tr>\n      <th>4</th>\n      <td>1906</td>\n      <td>70</td>\n      <td>Biography,Crime,Drama</td>\n      <td>6.1</td>\n      <td>588.0</td>\n      <td>nm0846879</td>\n      <td>nm0846879</td>\n      <td>nm0846894,nm3002376</td>\n    </tr>\n  </tbody>\n</table>\n</div>"
     },
     "metadata": {},
     "execution_count": 12
    }
   ],
   "source": [
    "df5 = df4.drop(['tconst', 'isAdult'], axis=1)\n",
    "df5.head()"
   ]
  },
  {
   "cell_type": "code",
   "execution_count": 318,
   "metadata": {
    "tags": []
   },
   "outputs": [
    {
     "output_type": "stream",
     "name": "stdout",
     "text": "(8638, 8)\n"
    }
   ],
   "source": [
    "# remove films with less than 100 ratings\n",
    "df6 = df5[df5.numVotes > 9999]\n",
    "print(df6.shape)"
   ]
  },
  {
   "cell_type": "code",
   "execution_count": 319,
   "metadata": {},
   "outputs": [],
   "source": [
    "df6.to_csv('OurData2.zip', index=False)"
   ]
  },
  {
   "cell_type": "code",
   "execution_count": 320,
   "metadata": {},
   "outputs": [
    {
     "output_type": "execute_result",
     "data": {
      "text/plain": "     startYear runtimeMinutes                  genres  averageRating  \\\n936       1915            195       Drama,History,War            6.3   \n1937      1916            163           Drama,History            7.8   \n4436      1920             76  Fantasy,Horror,Mystery            8.1   \n6047      1921             68     Comedy,Drama,Family            8.3   \n6807      1922             91  Fantasy,History,Horror            7.7   \n\n      numVotes  directors                                            writers  \\\n936    22122.0  nm0000428                      nm0228746,nm0000428,nm0940488   \n1937   13835.0  nm0000428  nm0048512,nm0115218,nm0000428,nm0002616,nm0640...   \n4436   55301.0  nm0927468                                nm0562346,nm0417917   \n6047  108411.0  nm0000122                                          nm0000122   \n6807   11721.0  nm0159725                                          nm0159725   \n\n                                                 nconst  \n936                                           nm0910400  \n1937                                nm0366008,nm0877548  \n4436                      nm0470328,nm0891998,nm0270415  \n6047  nm0088471,nm0000122,nm0001067,nm0588033,nm0042...  \n6807                                          nm0159725  ",
      "text/html": "<div>\n<style scoped>\n    .dataframe tbody tr th:only-of-type {\n        vertical-align: middle;\n    }\n\n    .dataframe tbody tr th {\n        vertical-align: top;\n    }\n\n    .dataframe thead th {\n        text-align: right;\n    }\n</style>\n<table border=\"1\" class=\"dataframe\">\n  <thead>\n    <tr style=\"text-align: right;\">\n      <th></th>\n      <th>startYear</th>\n      <th>runtimeMinutes</th>\n      <th>genres</th>\n      <th>averageRating</th>\n      <th>numVotes</th>\n      <th>directors</th>\n      <th>writers</th>\n      <th>nconst</th>\n    </tr>\n  </thead>\n  <tbody>\n    <tr>\n      <th>936</th>\n      <td>1915</td>\n      <td>195</td>\n      <td>Drama,History,War</td>\n      <td>6.3</td>\n      <td>22122.0</td>\n      <td>nm0000428</td>\n      <td>nm0228746,nm0000428,nm0940488</td>\n      <td>nm0910400</td>\n    </tr>\n    <tr>\n      <th>1937</th>\n      <td>1916</td>\n      <td>163</td>\n      <td>Drama,History</td>\n      <td>7.8</td>\n      <td>13835.0</td>\n      <td>nm0000428</td>\n      <td>nm0048512,nm0115218,nm0000428,nm0002616,nm0640...</td>\n      <td>nm0366008,nm0877548</td>\n    </tr>\n    <tr>\n      <th>4436</th>\n      <td>1920</td>\n      <td>76</td>\n      <td>Fantasy,Horror,Mystery</td>\n      <td>8.1</td>\n      <td>55301.0</td>\n      <td>nm0927468</td>\n      <td>nm0562346,nm0417917</td>\n      <td>nm0470328,nm0891998,nm0270415</td>\n    </tr>\n    <tr>\n      <th>6047</th>\n      <td>1921</td>\n      <td>68</td>\n      <td>Comedy,Drama,Family</td>\n      <td>8.3</td>\n      <td>108411.0</td>\n      <td>nm0000122</td>\n      <td>nm0000122</td>\n      <td>nm0088471,nm0000122,nm0001067,nm0588033,nm0042...</td>\n    </tr>\n    <tr>\n      <th>6807</th>\n      <td>1922</td>\n      <td>91</td>\n      <td>Fantasy,History,Horror</td>\n      <td>7.7</td>\n      <td>11721.0</td>\n      <td>nm0159725</td>\n      <td>nm0159725</td>\n      <td>nm0159725</td>\n    </tr>\n  </tbody>\n</table>\n</div>"
     },
     "metadata": {},
     "execution_count": 320
    }
   ],
   "source": [
    "df6.head()"
   ]
  },
  {
   "cell_type": "code",
   "execution_count": 321,
   "metadata": {},
   "outputs": [
    {
     "output_type": "execute_result",
     "data": {
      "text/plain": "     startYear runtimeMinutes                  genres  averageRating  \\\n936       1915            195       Drama,History,War            6.3   \n1937      1916            163           Drama,History            7.8   \n4436      1920             76  Fantasy,Horror,Mystery            8.1   \n6047      1921             68     Comedy,Drama,Family            8.3   \n6807      1922             91  Fantasy,History,Horror            7.7   \n\n      numVotes  directors                                            writers  \\\n936    22122.0      428.0                      nm0228746,nm0000428,nm0940488   \n1937   13835.0      428.0  nm0048512,nm0115218,nm0000428,nm0002616,nm0640...   \n4436   55301.0   927468.0                                nm0562346,nm0417917   \n6047  108411.0      122.0                                          nm0000122   \n6807   11721.0   159725.0                                          nm0159725   \n\n                                                 nconst  \n936                                           nm0910400  \n1937                                nm0366008,nm0877548  \n4436                      nm0470328,nm0891998,nm0270415  \n6047  nm0088471,nm0000122,nm0001067,nm0588033,nm0042...  \n6807                                          nm0159725  ",
      "text/html": "<div>\n<style scoped>\n    .dataframe tbody tr th:only-of-type {\n        vertical-align: middle;\n    }\n\n    .dataframe tbody tr th {\n        vertical-align: top;\n    }\n\n    .dataframe thead th {\n        text-align: right;\n    }\n</style>\n<table border=\"1\" class=\"dataframe\">\n  <thead>\n    <tr style=\"text-align: right;\">\n      <th></th>\n      <th>startYear</th>\n      <th>runtimeMinutes</th>\n      <th>genres</th>\n      <th>averageRating</th>\n      <th>numVotes</th>\n      <th>directors</th>\n      <th>writers</th>\n      <th>nconst</th>\n    </tr>\n  </thead>\n  <tbody>\n    <tr>\n      <th>936</th>\n      <td>1915</td>\n      <td>195</td>\n      <td>Drama,History,War</td>\n      <td>6.3</td>\n      <td>22122.0</td>\n      <td>428.0</td>\n      <td>nm0228746,nm0000428,nm0940488</td>\n      <td>nm0910400</td>\n    </tr>\n    <tr>\n      <th>1937</th>\n      <td>1916</td>\n      <td>163</td>\n      <td>Drama,History</td>\n      <td>7.8</td>\n      <td>13835.0</td>\n      <td>428.0</td>\n      <td>nm0048512,nm0115218,nm0000428,nm0002616,nm0640...</td>\n      <td>nm0366008,nm0877548</td>\n    </tr>\n    <tr>\n      <th>4436</th>\n      <td>1920</td>\n      <td>76</td>\n      <td>Fantasy,Horror,Mystery</td>\n      <td>8.1</td>\n      <td>55301.0</td>\n      <td>927468.0</td>\n      <td>nm0562346,nm0417917</td>\n      <td>nm0470328,nm0891998,nm0270415</td>\n    </tr>\n    <tr>\n      <th>6047</th>\n      <td>1921</td>\n      <td>68</td>\n      <td>Comedy,Drama,Family</td>\n      <td>8.3</td>\n      <td>108411.0</td>\n      <td>122.0</td>\n      <td>nm0000122</td>\n      <td>nm0088471,nm0000122,nm0001067,nm0588033,nm0042...</td>\n    </tr>\n    <tr>\n      <th>6807</th>\n      <td>1922</td>\n      <td>91</td>\n      <td>Fantasy,History,Horror</td>\n      <td>7.7</td>\n      <td>11721.0</td>\n      <td>159725.0</td>\n      <td>nm0159725</td>\n      <td>nm0159725</td>\n    </tr>\n  </tbody>\n</table>\n</div>"
     },
     "metadata": {},
     "execution_count": 321
    }
   ],
   "source": [
    "#convert array of directors into single number value representing each director\n",
    "def firstName(string):\n",
    "    return string[2:].split(',', 1)[0]\n",
    "\n",
    "df6.directors = pd.to_numeric(df6.directors.apply(firstName))\n",
    "df6.head()"
   ]
  },
  {
   "cell_type": "code",
   "execution_count": 182,
   "metadata": {
    "tags": []
   },
   "outputs": [
    {
     "output_type": "stream",
     "name": "stdout",
     "text": "{'': 0, 'Drama': 1, 'History': 2, 'War': 3, 'Fantasy': 4, 'Horror': 5, 'Mystery': 6, 'Comedy': 7, 'Family': 8, 'Documentary': 9, 'Action': 10, 'Thriller': 11, 'Romance': 12, 'Adventure': 13, 'Sci-Fi': 14, 'Biography': 15, 'Music': 16, 'Musical': 17, 'Crime': 18, 'Film-Noir': 19, 'Sport': 20, 'Animation': 21, 'Western': 22, 'News': 23}\n"
    }
   ],
   "source": [
    "# create a dictionary for genres relating to a number\n",
    "i = 0\n",
    "\n",
    "# assign a new key value map\n",
    "def assignNewKey(str):\n",
    "    if ',' in str:\n",
    "        str = str.split(',')\n",
    "    if isinstance(str, list):\n",
    "        [assignNewKey(element) for element in str]\n",
    "\n",
    "    elif str not in gd.keys():\n",
    "        global i\n",
    "        i = i + 1\n",
    "        gd[str] = i\n",
    "        \n",
    "\n",
    "gd = dict()\n",
    "gd[''] = 0\n",
    "\n",
    "# iterate through every genre and create a hashmap for genres\n",
    "df6.genres.apply(assignNewKey)\n",
    "\n",
    "print(gd)\n"
   ]
  },
  {
   "cell_type": "code",
   "execution_count": 351,
   "metadata": {
    "tags": [
     "outputPrepend"
    ]
   },
   "outputs": [
    {
     "output_type": "stream",
     "name": "stdout",
     "text": ", '2,14,22', '2,14,23', '2,15,15', '2,15,16', '2,15,17', '2,15,18', '2,15,19', '2,15,20', '2,15,21', '2,15,22', '2,15,23', '2,16,16', '2,16,17', '2,16,18', '2,16,19', '2,16,20', '2,16,21', '2,16,22', '2,16,23', '2,17,17', '2,17,18', '2,17,19', '2,17,20', '2,17,21', '2,17,22', '2,17,23', '2,18,18', '2,18,19', '2,18,20', '2,18,21', '2,18,22', '2,18,23', '2,19,19', '2,19,20', '2,19,21', '2,19,22', '2,19,23', '2,20,20', '2,20,21', '2,20,22', '2,20,23', '2,21,21', '2,21,22', '2,21,23', '2,22,22', '2,22,23', '2,23,23', '3,3,3', '3,3,4', '3,3,5', '3,3,6', '3,3,7', '3,3,8', '3,3,9', '3,3,10', '3,3,11', '3,3,12', '3,3,13', '3,3,14', '3,3,15', '3,3,16', '3,3,17', '3,3,18', '3,3,19', '3,3,20', '3,3,21', '3,3,22', '3,3,23', '3,4,4', '3,4,5', '3,4,6', '3,4,7', '3,4,8', '3,4,9', '3,4,10', '3,4,11', '3,4,12', '3,4,13', '3,4,14', '3,4,15', '3,4,16', '3,4,17', '3,4,18', '3,4,19', '3,4,20', '3,4,21', '3,4,22', '3,4,23', '3,5,5', '3,5,6', '3,5,7', '3,5,8', '3,5,9', '3,5,10', '3,5,11', '3,5,12', '3,5,13', '3,5,14', '3,5,15', '3,5,16', '3,5,17', '3,5,18', '3,5,19', '3,5,20', '3,5,21', '3,5,22', '3,5,23', '3,6,6', '3,6,7', '3,6,8', '3,6,9', '3,6,10', '3,6,11', '3,6,12', '3,6,13', '3,6,14', '3,6,15', '3,6,16', '3,6,17', '3,6,18', '3,6,19', '3,6,20', '3,6,21', '3,6,22', '3,6,23', '3,7,7', '3,7,8', '3,7,9', '3,7,10', '3,7,11', '3,7,12', '3,7,13', '3,7,14', '3,7,15', '3,7,16', '3,7,17', '3,7,18', '3,7,19', '3,7,20', '3,7,21', '3,7,22', '3,7,23', '3,8,8', '3,8,9', '3,8,10', '3,8,11', '3,8,12', '3,8,13', '3,8,14', '3,8,15', '3,8,16', '3,8,17', '3,8,18', '3,8,19', '3,8,20', '3,8,21', '3,8,22', '3,8,23', '3,9,9', '3,9,10', '3,9,11', '3,9,12', '3,9,13', '3,9,14', '3,9,15', '3,9,16', '3,9,17', '3,9,18', '3,9,19', '3,9,20', '3,9,21', '3,9,22', '3,9,23', '3,10,10', '3,10,11', '3,10,12', '3,10,13', '3,10,14', '3,10,15', '3,10,16', '3,10,17', '3,10,18', '3,10,19', '3,10,20', '3,10,21', '3,10,22', '3,10,23', '3,11,11', '3,11,12', '3,11,13', '3,11,14', '3,11,15', '3,11,16', '3,11,17', '3,11,18', '3,11,19', '3,11,20', '3,11,21', '3,11,22', '3,11,23', '3,12,12', '3,12,13', '3,12,14', '3,12,15', '3,12,16', '3,12,17', '3,12,18', '3,12,19', '3,12,20', '3,12,21', '3,12,22', '3,12,23', '3,13,13', '3,13,14', '3,13,15', '3,13,16', '3,13,17', '3,13,18', '3,13,19', '3,13,20', '3,13,21', '3,13,22', '3,13,23', '3,14,14', '3,14,15', '3,14,16', '3,14,17', '3,14,18', '3,14,19', '3,14,20', '3,14,21', '3,14,22', '3,14,23', '3,15,15', '3,15,16', '3,15,17', '3,15,18', '3,15,19', '3,15,20', '3,15,21', '3,15,22', '3,15,23', '3,16,16', '3,16,17', '3,16,18', '3,16,19', '3,16,20', '3,16,21', '3,16,22', '3,16,23', '3,17,17', '3,17,18', '3,17,19', '3,17,20', '3,17,21', '3,17,22', '3,17,23', '3,18,18', '3,18,19', '3,18,20', '3,18,21', '3,18,22', '3,18,23', '3,19,19', '3,19,20', '3,19,21', '3,19,22', '3,19,23', '3,20,20', '3,20,21', '3,20,22', '3,20,23', '3,21,21', '3,21,22', '3,21,23', '3,22,22', '3,22,23', '3,23,23', '4,4,4', '4,4,5', '4,4,6', '4,4,7', '4,4,8', '4,4,9', '4,4,10', '4,4,11', '4,4,12', '4,4,13', '4,4,14', '4,4,15', '4,4,16', '4,4,17', '4,4,18', '4,4,19', '4,4,20', '4,4,21', '4,4,22', '4,4,23', '4,5,5', '4,5,6', '4,5,7', '4,5,8', '4,5,9', '4,5,10', '4,5,11', '4,5,12', '4,5,13', '4,5,14', '4,5,15', '4,5,16', '4,5,17', '4,5,18', '4,5,19', '4,5,20', '4,5,21', '4,5,22', '4,5,23', '4,6,6', '4,6,7', '4,6,8', '4,6,9', '4,6,10', '4,6,11', '4,6,12', '4,6,13', '4,6,14', '4,6,15', '4,6,16', '4,6,17', '4,6,18', '4,6,19', '4,6,20', '4,6,21', '4,6,22', '4,6,23', '4,7,7', '4,7,8', '4,7,9', '4,7,10', '4,7,11', '4,7,12', '4,7,13', '4,7,14', '4,7,15', '4,7,16', '4,7,17', '4,7,18', '4,7,19', '4,7,20', '4,7,21', '4,7,22', '4,7,23', '4,8,8', '4,8,9', '4,8,10', '4,8,11', '4,8,12', '4,8,13', '4,8,14', '4,8,15', '4,8,16', '4,8,17', '4,8,18', '4,8,19', '4,8,20', '4,8,21', '4,8,22', '4,8,23', '4,9,9', '4,9,10', '4,9,11', '4,9,12', '4,9,13', '4,9,14', '4,9,15', '4,9,16', '4,9,17', '4,9,18', '4,9,19', '4,9,20', '4,9,21', '4,9,22', '4,9,23', '4,10,10', '4,10,11', '4,10,12', '4,10,13', '4,10,14', '4,10,15', '4,10,16', '4,10,17', '4,10,18', '4,10,19', '4,10,20', '4,10,21', '4,10,22', '4,10,23', '4,11,11', '4,11,12', '4,11,13', '4,11,14', '4,11,15', '4,11,16', '4,11,17', '4,11,18', '4,11,19', '4,11,20', '4,11,21', '4,11,22', '4,11,23', '4,12,12', '4,12,13', '4,12,14', '4,12,15', '4,12,16', '4,12,17', '4,12,18', '4,12,19', '4,12,20', '4,12,21', '4,12,22', '4,12,23', '4,13,13', '4,13,14', '4,13,15', '4,13,16', '4,13,17', '4,13,18', '4,13,19', '4,13,20', '4,13,21', '4,13,22', '4,13,23', '4,14,14', '4,14,15', '4,14,16', '4,14,17', '4,14,18', '4,14,19', '4,14,20', '4,14,21', '4,14,22', '4,14,23', '4,15,15', '4,15,16', '4,15,17', '4,15,18', '4,15,19', '4,15,20', '4,15,21', '4,15,22', '4,15,23', '4,16,16', '4,16,17', '4,16,18', '4,16,19', '4,16,20', '4,16,21', '4,16,22', '4,16,23', '4,17,17', '4,17,18', '4,17,19', '4,17,20', '4,17,21', '4,17,22', '4,17,23', '4,18,18', '4,18,19', '4,18,20', '4,18,21', '4,18,22', '4,18,23', '4,19,19', '4,19,20', '4,19,21', '4,19,22', '4,19,23', '4,20,20', '4,20,21', '4,20,22', '4,20,23', '4,21,21', '4,21,22', '4,21,23', '4,22,22', '4,22,23', '4,23,23', '5,5,5', '5,5,6', '5,5,7', '5,5,8', '5,5,9', '5,5,10', '5,5,11', '5,5,12', '5,5,13', '5,5,14', '5,5,15', '5,5,16', '5,5,17', '5,5,18', '5,5,19', '5,5,20', '5,5,21', '5,5,22', '5,5,23', '5,6,6', '5,6,7', '5,6,8', '5,6,9', '5,6,10', '5,6,11', '5,6,12', '5,6,13', '5,6,14', '5,6,15', '5,6,16', '5,6,17', '5,6,18', '5,6,19', '5,6,20', '5,6,21', '5,6,22', '5,6,23', '5,7,7', '5,7,8', '5,7,9', '5,7,10', '5,7,11', '5,7,12', '5,7,13', '5,7,14', '5,7,15', '5,7,16', '5,7,17', '5,7,18', '5,7,19', '5,7,20', '5,7,21', '5,7,22', '5,7,23', '5,8,8', '5,8,9', '5,8,10', '5,8,11', '5,8,12', '5,8,13', '5,8,14', '5,8,15', '5,8,16', '5,8,17', '5,8,18', '5,8,19', '5,8,20', '5,8,21', '5,8,22', '5,8,23', '5,9,9', '5,9,10', '5,9,11', '5,9,12', '5,9,13', '5,9,14', '5,9,15', '5,9,16', '5,9,17', '5,9,18', '5,9,19', '5,9,20', '5,9,21', '5,9,22', '5,9,23', '5,10,10', '5,10,11', '5,10,12', '5,10,13', '5,10,14', '5,10,15', '5,10,16', '5,10,17', '5,10,18', '5,10,19', '5,10,20', '5,10,21', '5,10,22', '5,10,23', '5,11,11', '5,11,12', '5,11,13', '5,11,14', '5,11,15', '5,11,16', '5,11,17', '5,11,18', '5,11,19', '5,11,20', '5,11,21', '5,11,22', '5,11,23', '5,12,12', '5,12,13', '5,12,14', '5,12,15', '5,12,16', '5,12,17', '5,12,18', '5,12,19', '5,12,20', '5,12,21', '5,12,22', '5,12,23', '5,13,13', '5,13,14', '5,13,15', '5,13,16', '5,13,17', '5,13,18', '5,13,19', '5,13,20', '5,13,21', '5,13,22', '5,13,23', '5,14,14', '5,14,15', '5,14,16', '5,14,17', '5,14,18', '5,14,19', '5,14,20', '5,14,21', '5,14,22', '5,14,23', '5,15,15', '5,15,16', '5,15,17', '5,15,18', '5,15,19', '5,15,20', '5,15,21', '5,15,22', '5,15,23', '5,16,16', '5,16,17', '5,16,18', '5,16,19', '5,16,20', '5,16,21', '5,16,22', '5,16,23', '5,17,17', '5,17,18', '5,17,19', '5,17,20', '5,17,21', '5,17,22', '5,17,23', '5,18,18', '5,18,19', '5,18,20', '5,18,21', '5,18,22', '5,18,23', '5,19,19', '5,19,20', '5,19,21', '5,19,22', '5,19,23', '5,20,20', '5,20,21', '5,20,22', '5,20,23', '5,21,21', '5,21,22', '5,21,23', '5,22,22', '5,22,23', '5,23,23', '6,6,6', '6,6,7', '6,6,8', '6,6,9', '6,6,10', '6,6,11', '6,6,12', '6,6,13', '6,6,14', '6,6,15', '6,6,16', '6,6,17', '6,6,18', '6,6,19', '6,6,20', '6,6,21', '6,6,22', '6,6,23', '6,7,7', '6,7,8', '6,7,9', '6,7,10', '6,7,11', '6,7,12', '6,7,13', '6,7,14', '6,7,15', '6,7,16', '6,7,17', '6,7,18', '6,7,19', '6,7,20', '6,7,21', '6,7,22', '6,7,23', '6,8,8', '6,8,9', '6,8,10', '6,8,11', '6,8,12', '6,8,13', '6,8,14', '6,8,15', '6,8,16', '6,8,17', '6,8,18', '6,8,19', '6,8,20', '6,8,21', '6,8,22', '6,8,23', '6,9,9', '6,9,10', '6,9,11', '6,9,12', '6,9,13', '6,9,14', '6,9,15', '6,9,16', '6,9,17', '6,9,18', '6,9,19', '6,9,20', '6,9,21', '6,9,22', '6,9,23', '6,10,10', '6,10,11', '6,10,12', '6,10,13', '6,10,14', '6,10,15', '6,10,16', '6,10,17', '6,10,18', '6,10,19', '6,10,20', '6,10,21', '6,10,22', '6,10,23', '6,11,11', '6,11,12', '6,11,13', '6,11,14', '6,11,15', '6,11,16', '6,11,17', '6,11,18', '6,11,19', '6,11,20', '6,11,21', '6,11,22', '6,11,23', '6,12,12', '6,12,13', '6,12,14', '6,12,15', '6,12,16', '6,12,17', '6,12,18', '6,12,19', '6,12,20', '6,12,21', '6,12,22', '6,12,23', '6,13,13', '6,13,14', '6,13,15', '6,13,16', '6,13,17', '6,13,18', '6,13,19', '6,13,20', '6,13,21', '6,13,22', '6,13,23', '6,14,14', '6,14,15', '6,14,16', '6,14,17', '6,14,18', '6,14,19', '6,14,20', '6,14,21', '6,14,22', '6,14,23', '6,15,15', '6,15,16', '6,15,17', '6,15,18', '6,15,19', '6,15,20', '6,15,21', '6,15,22', '6,15,23', '6,16,16', '6,16,17', '6,16,18', '6,16,19', '6,16,20', '6,16,21', '6,16,22', '6,16,23', '6,17,17', '6,17,18', '6,17,19', '6,17,20', '6,17,21', '6,17,22', '6,17,23', '6,18,18', '6,18,19', '6,18,20', '6,18,21', '6,18,22', '6,18,23', '6,19,19', '6,19,20', '6,19,21', '6,19,22', '6,19,23', '6,20,20', '6,20,21', '6,20,22', '6,20,23', '6,21,21', '6,21,22', '6,21,23', '6,22,22', '6,22,23', '6,23,23', '7,7,7', '7,7,8', '7,7,9', '7,7,10', '7,7,11', '7,7,12', '7,7,13', '7,7,14', '7,7,15', '7,7,16', '7,7,17', '7,7,18', '7,7,19', '7,7,20', '7,7,21', '7,7,22', '7,7,23', '7,8,8', '7,8,9', '7,8,10', '7,8,11', '7,8,12', '7,8,13', '7,8,14', '7,8,15', '7,8,16', '7,8,17', '7,8,18', '7,8,19', '7,8,20', '7,8,21', '7,8,22', '7,8,23', '7,9,9', '7,9,10', '7,9,11', '7,9,12', '7,9,13', '7,9,14', '7,9,15', '7,9,16', '7,9,17', '7,9,18', '7,9,19', '7,9,20', '7,9,21', '7,9,22', '7,9,23', '7,10,10', '7,10,11', '7,10,12', '7,10,13', '7,10,14', '7,10,15', '7,10,16', '7,10,17', '7,10,18', '7,10,19', '7,10,20', '7,10,21', '7,10,22', '7,10,23', '7,11,11', '7,11,12', '7,11,13', '7,11,14', '7,11,15', '7,11,16', '7,11,17', '7,11,18', '7,11,19', '7,11,20', '7,11,21', '7,11,22', '7,11,23', '7,12,12', '7,12,13', '7,12,14', '7,12,15', '7,12,16', '7,12,17', '7,12,18', '7,12,19', '7,12,20', '7,12,21', '7,12,22', '7,12,23', '7,13,13', '7,13,14', '7,13,15', '7,13,16', '7,13,17', '7,13,18', '7,13,19', '7,13,20', '7,13,21', '7,13,22', '7,13,23', '7,14,14', '7,14,15', '7,14,16', '7,14,17', '7,14,18', '7,14,19', '7,14,20', '7,14,21', '7,14,22', '7,14,23', '7,15,15', '7,15,16', '7,15,17', '7,15,18', '7,15,19', '7,15,20', '7,15,21', '7,15,22', '7,15,23', '7,16,16', '7,16,17', '7,16,18', '7,16,19', '7,16,20', '7,16,21', '7,16,22', '7,16,23', '7,17,17', '7,17,18', '7,17,19', '7,17,20', '7,17,21', '7,17,22', '7,17,23', '7,18,18', '7,18,19', '7,18,20', '7,18,21', '7,18,22', '7,18,23', '7,19,19', '7,19,20', '7,19,21', '7,19,22', '7,19,23', '7,20,20', '7,20,21', '7,20,22', '7,20,23', '7,21,21', '7,21,22', '7,21,23', '7,22,22', '7,22,23', '7,23,23', '8,8,8', '8,8,9', '8,8,10', '8,8,11', '8,8,12', '8,8,13', '8,8,14', '8,8,15', '8,8,16', '8,8,17', '8,8,18', '8,8,19', '8,8,20', '8,8,21', '8,8,22', '8,8,23', '8,9,9', '8,9,10', '8,9,11', '8,9,12', '8,9,13', '8,9,14', '8,9,15', '8,9,16', '8,9,17', '8,9,18', '8,9,19', '8,9,20', '8,9,21', '8,9,22', '8,9,23', '8,10,10', '8,10,11', '8,10,12', '8,10,13', '8,10,14', '8,10,15', '8,10,16', '8,10,17', '8,10,18', '8,10,19', '8,10,20', '8,10,21', '8,10,22', '8,10,23', '8,11,11', '8,11,12', '8,11,13', '8,11,14', '8,11,15', '8,11,16', '8,11,17', '8,11,18', '8,11,19', '8,11,20', '8,11,21', '8,11,22', '8,11,23', '8,12,12', '8,12,13', '8,12,14', '8,12,15', '8,12,16', '8,12,17', '8,12,18', '8,12,19', '8,12,20', '8,12,21', '8,12,22', '8,12,23', '8,13,13', '8,13,14', '8,13,15', '8,13,16', '8,13,17', '8,13,18', '8,13,19', '8,13,20', '8,13,21', '8,13,22', '8,13,23', '8,14,14', '8,14,15', '8,14,16', '8,14,17', '8,14,18', '8,14,19', '8,14,20', '8,14,21', '8,14,22', '8,14,23', '8,15,15', '8,15,16', '8,15,17', '8,15,18', '8,15,19', '8,15,20', '8,15,21', '8,15,22', '8,15,23', '8,16,16', '8,16,17', '8,16,18', '8,16,19', '8,16,20', '8,16,21', '8,16,22', '8,16,23', '8,17,17', '8,17,18', '8,17,19', '8,17,20', '8,17,21', '8,17,22', '8,17,23', '8,18,18', '8,18,19', '8,18,20', '8,18,21', '8,18,22', '8,18,23', '8,19,19', '8,19,20', '8,19,21', '8,19,22', '8,19,23', '8,20,20', '8,20,21', '8,20,22', '8,20,23', '8,21,21', '8,21,22', '8,21,23', '8,22,22', '8,22,23', '8,23,23', '9,9,9', '9,9,10', '9,9,11', '9,9,12', '9,9,13', '9,9,14', '9,9,15', '9,9,16', '9,9,17', '9,9,18', '9,9,19', '9,9,20', '9,9,21', '9,9,22', '9,9,23', '9,10,10', '9,10,11', '9,10,12', '9,10,13', '9,10,14', '9,10,15', '9,10,16', '9,10,17', '9,10,18', '9,10,19', '9,10,20', '9,10,21', '9,10,22', '9,10,23', '9,11,11', '9,11,12', '9,11,13', '9,11,14', '9,11,15', '9,11,16', '9,11,17', '9,11,18', '9,11,19', '9,11,20', '9,11,21', '9,11,22', '9,11,23', '9,12,12', '9,12,13', '9,12,14', '9,12,15', '9,12,16', '9,12,17', '9,12,18', '9,12,19', '9,12,20', '9,12,21', '9,12,22', '9,12,23', '9,13,13', '9,13,14', '9,13,15', '9,13,16', '9,13,17', '9,13,18', '9,13,19', '9,13,20', '9,13,21', '9,13,22', '9,13,23', '9,14,14', '9,14,15', '9,14,16', '9,14,17', '9,14,18', '9,14,19', '9,14,20', '9,14,21', '9,14,22', '9,14,23', '9,15,15', '9,15,16', '9,15,17', '9,15,18', '9,15,19', '9,15,20', '9,15,21', '9,15,22', '9,15,23', '9,16,16', '9,16,17', '9,16,18', '9,16,19', '9,16,20', '9,16,21', '9,16,22', '9,16,23', '9,17,17', '9,17,18', '9,17,19', '9,17,20', '9,17,21', '9,17,22', '9,17,23', '9,18,18', '9,18,19', '9,18,20', '9,18,21', '9,18,22', '9,18,23', '9,19,19', '9,19,20', '9,19,21', '9,19,22', '9,19,23', '9,20,20', '9,20,21', '9,20,22', '9,20,23', '9,21,21', '9,21,22', '9,21,23', '9,22,22', '9,22,23', '9,23,23', '10,10,10', '10,10,11', '10,10,12', '10,10,13', '10,10,14', '10,10,15', '10,10,16', '10,10,17', '10,10,18', '10,10,19', '10,10,20', '10,10,21', '10,10,22', '10,10,23', '10,11,11', '10,11,12', '10,11,13', '10,11,14', '10,11,15', '10,11,16', '10,11,17', '10,11,18', '10,11,19', '10,11,20', '10,11,21', '10,11,22', '10,11,23', '10,12,12', '10,12,13', '10,12,14', '10,12,15', '10,12,16', '10,12,17', '10,12,18', '10,12,19', '10,12,20', '10,12,21', '10,12,22', '10,12,23', '10,13,13', '10,13,14', '10,13,15', '10,13,16', '10,13,17', '10,13,18', '10,13,19', '10,13,20', '10,13,21', '10,13,22', '10,13,23', '10,14,14', '10,14,15', '10,14,16', '10,14,17', '10,14,18', '10,14,19', '10,14,20', '10,14,21', '10,14,22', '10,14,23', '10,15,15', '10,15,16', '10,15,17', '10,15,18', '10,15,19', '10,15,20', '10,15,21', '10,15,22', '10,15,23', '10,16,16', '10,16,17', '10,16,18', '10,16,19', '10,16,20', '10,16,21', '10,16,22', '10,16,23', '10,17,17', '10,17,18', '10,17,19', '10,17,20', '10,17,21', '10,17,22', '10,17,23', '10,18,18', '10,18,19', '10,18,20', '10,18,21', '10,18,22', '10,18,23', '10,19,19', '10,19,20', '10,19,21', '10,19,22', '10,19,23', '10,20,20', '10,20,21', '10,20,22', '10,20,23', '10,21,21', '10,21,22', '10,21,23', '10,22,22', '10,22,23', '10,23,23', '11,11,11', '11,11,12', '11,11,13', '11,11,14', '11,11,15', '11,11,16', '11,11,17', '11,11,18', '11,11,19', '11,11,20', '11,11,21', '11,11,22', '11,11,23', '11,12,12', '11,12,13', '11,12,14', '11,12,15', '11,12,16', '11,12,17', '11,12,18', '11,12,19', '11,12,20', '11,12,21', '11,12,22', '11,12,23', '11,13,13', '11,13,14', '11,13,15', '11,13,16', '11,13,17', '11,13,18', '11,13,19', '11,13,20', '11,13,21', '11,13,22', '11,13,23', '11,14,14', '11,14,15', '11,14,16', '11,14,17', '11,14,18', '11,14,19', '11,14,20', '11,14,21', '11,14,22', '11,14,23', '11,15,15', '11,15,16', '11,15,17', '11,15,18', '11,15,19', '11,15,20', '11,15,21', '11,15,22', '11,15,23', '11,16,16', '11,16,17', '11,16,18', '11,16,19', '11,16,20', '11,16,21', '11,16,22', '11,16,23', '11,17,17', '11,17,18', '11,17,19', '11,17,20', '11,17,21', '11,17,22', '11,17,23', '11,18,18', '11,18,19', '11,18,20', '11,18,21', '11,18,22', '11,18,23', '11,19,19', '11,19,20', '11,19,21', '11,19,22', '11,19,23', '11,20,20', '11,20,21', '11,20,22', '11,20,23', '11,21,21', '11,21,22', '11,21,23', '11,22,22', '11,22,23', '11,23,23', '12,12,12', '12,12,13', '12,12,14', '12,12,15', '12,12,16', '12,12,17', '12,12,18', '12,12,19', '12,12,20', '12,12,21', '12,12,22', '12,12,23', '12,13,13', '12,13,14', '12,13,15', '12,13,16', '12,13,17', '12,13,18', '12,13,19', '12,13,20', '12,13,21', '12,13,22', '12,13,23', '12,14,14', '12,14,15', '12,14,16', '12,14,17', '12,14,18', '12,14,19', '12,14,20', '12,14,21', '12,14,22', '12,14,23', '12,15,15', '12,15,16', '12,15,17', '12,15,18', '12,15,19', '12,15,20', '12,15,21', '12,15,22', '12,15,23', '12,16,16', '12,16,17', '12,16,18', '12,16,19', '12,16,20', '12,16,21', '12,16,22', '12,16,23', '12,17,17', '12,17,18', '12,17,19', '12,17,20', '12,17,21', '12,17,22', '12,17,23', '12,18,18', '12,18,19', '12,18,20', '12,18,21', '12,18,22', '12,18,23', '12,19,19', '12,19,20', '12,19,21', '12,19,22', '12,19,23', '12,20,20', '12,20,21', '12,20,22', '12,20,23', '12,21,21', '12,21,22', '12,21,23', '12,22,22', '12,22,23', '12,23,23', '13,13,13', '13,13,14', '13,13,15', '13,13,16', '13,13,17', '13,13,18', '13,13,19', '13,13,20', '13,13,21', '13,13,22', '13,13,23', '13,14,14', '13,14,15', '13,14,16', '13,14,17', '13,14,18', '13,14,19', '13,14,20', '13,14,21', '13,14,22', '13,14,23', '13,15,15', '13,15,16', '13,15,17', '13,15,18', '13,15,19', '13,15,20', '13,15,21', '13,15,22', '13,15,23', '13,16,16', '13,16,17', '13,16,18', '13,16,19', '13,16,20', '13,16,21', '13,16,22', '13,16,23', '13,17,17', '13,17,18', '13,17,19', '13,17,20', '13,17,21', '13,17,22', '13,17,23', '13,18,18', '13,18,19', '13,18,20', '13,18,21', '13,18,22', '13,18,23', '13,19,19', '13,19,20', '13,19,21', '13,19,22', '13,19,23', '13,20,20', '13,20,21', '13,20,22', '13,20,23', '13,21,21', '13,21,22', '13,21,23', '13,22,22', '13,22,23', '13,23,23', '14,14,14', '14,14,15', '14,14,16', '14,14,17', '14,14,18', '14,14,19', '14,14,20', '14,14,21', '14,14,22', '14,14,23', '14,15,15', '14,15,16', '14,15,17', '14,15,18', '14,15,19', '14,15,20', '14,15,21', '14,15,22', '14,15,23', '14,16,16', '14,16,17', '14,16,18', '14,16,19', '14,16,20', '14,16,21', '14,16,22', '14,16,23', '14,17,17', '14,17,18', '14,17,19', '14,17,20', '14,17,21', '14,17,22', '14,17,23', '14,18,18', '14,18,19', '14,18,20', '14,18,21', '14,18,22', '14,18,23', '14,19,19', '14,19,20', '14,19,21', '14,19,22', '14,19,23', '14,20,20', '14,20,21', '14,20,22', '14,20,23', '14,21,21', '14,21,22', '14,21,23', '14,22,22', '14,22,23', '14,23,23', '15,15,15', '15,15,16', '15,15,17', '15,15,18', '15,15,19', '15,15,20', '15,15,21', '15,15,22', '15,15,23', '15,16,16', '15,16,17', '15,16,18', '15,16,19', '15,16,20', '15,16,21', '15,16,22', '15,16,23', '15,17,17', '15,17,18', '15,17,19', '15,17,20', '15,17,21', '15,17,22', '15,17,23', '15,18,18', '15,18,19', '15,18,20', '15,18,21', '15,18,22', '15,18,23', '15,19,19', '15,19,20', '15,19,21', '15,19,22', '15,19,23', '15,20,20', '15,20,21', '15,20,22', '15,20,23', '15,21,21', '15,21,22', '15,21,23', '15,22,22', '15,22,23', '15,23,23', '16,16,16', '16,16,17', '16,16,18', '16,16,19', '16,16,20', '16,16,21', '16,16,22', '16,16,23', '16,17,17', '16,17,18', '16,17,19', '16,17,20', '16,17,21', '16,17,22', '16,17,23', '16,18,18', '16,18,19', '16,18,20', '16,18,21', '16,18,22', '16,18,23', '16,19,19', '16,19,20', '16,19,21', '16,19,22', '16,19,23', '16,20,20', '16,20,21', '16,20,22', '16,20,23', '16,21,21', '16,21,22', '16,21,23', '16,22,22', '16,22,23', '16,23,23', '17,17,17', '17,17,18', '17,17,19', '17,17,20', '17,17,21', '17,17,22', '17,17,23', '17,18,18', '17,18,19', '17,18,20', '17,18,21', '17,18,22', '17,18,23', '17,19,19', '17,19,20', '17,19,21', '17,19,22', '17,19,23', '17,20,20', '17,20,21', '17,20,22', '17,20,23', '17,21,21', '17,21,22', '17,21,23', '17,22,22', '17,22,23', '17,23,23', '18,18,18', '18,18,19', '18,18,20', '18,18,21', '18,18,22', '18,18,23', '18,19,19', '18,19,20', '18,19,21', '18,19,22', '18,19,23', '18,20,20', '18,20,21', '18,20,22', '18,20,23', '18,21,21', '18,21,22', '18,21,23', '18,22,22', '18,22,23', '18,23,23', '19,19,19', '19,19,20', '19,19,21', '19,19,22', '19,19,23', '19,20,20', '19,20,21', '19,20,22', '19,20,23', '19,21,21', '19,21,22', '19,21,23', '19,22,22', '19,22,23', '19,23,23', '20,20,20', '20,20,21', '20,20,22', '20,20,23', '20,21,21', '20,21,22', '20,21,23', '20,22,22', '20,22,23', '20,23,23', '21,21,21', '21,21,22', '21,21,23', '21,22,22', '21,22,23', '21,23,23', '22,22,22', '22,22,23', '22,23,23', '23,23,23']\n"
    }
   ],
   "source": [
    "# generate a list of genre combinations\n",
    "perms = []\n",
    "\n",
    "for i in range (0,24):\n",
    "    for j in range (0, 24):\n",
    "        for k in range (0, 24):\n",
    "            nums = [i,j,k]\n",
    "            nums.sort()\n",
    "            nums = [str(element) for element in nums]\n",
    "            nums = \",\".join(nums)\n",
    "            perms.append(nums)\n",
    "            \n",
    "\n",
    "perms = list(dict.fromkeys(perms))\n",
    "print(perms)"
   ]
  },
  {
   "cell_type": "code",
   "execution_count": 357,
   "metadata": {
    "tags": []
   },
   "outputs": [
    {
     "output_type": "stream",
     "name": "stdout",
     "text": "[2, 4, 23]\n"
    },
    {
     "output_type": "execute_result",
     "data": {
      "text/plain": "638"
     },
     "metadata": {},
     "execution_count": 357
    }
   ],
   "source": [
    "# getGenreCombo - usage, comma separated string of genres as input, returns combo numberz\n",
    "myGenres1 = 'Action,Comedy'\n",
    "myGenres2 = 'Comedy,Action'\n",
    "\n",
    "def genresToNumbers(glist):\n",
    "    glist = glist.split(',')\n",
    "    glist = [gd[element] for element in glist]\n",
    "    return glist\n",
    "\n",
    "def genreNumsToComboNumAdd0(numList):\n",
    "    if(len(numList) < 3):\n",
    "        numList.append(0)\n",
    "        genreNumsToComboNumAdd0(numList)\n",
    "    return numList\n",
    "\n",
    "def genreNumsToComboNum(numList):\n",
    "    numList = genreNumsToComboNumAdd0(numList)\n",
    "    numList.sort()\n",
    "    numList = [str(element) for element in numList]\n",
    "    numList = \",\".join(numList)\n",
    "    return perms.index(numList)\n",
    "\n",
    "def getGenreCombo(genres):\n",
    "    return genreNumsToComboNum(genresToNumbers(genres))"
   ]
  },
  {
   "cell_type": "code",
   "execution_count": 324,
   "metadata": {
    "tags": []
   },
   "outputs": [
    {
     "output_type": "execute_result",
     "data": {
      "text/plain": "     startYear runtimeMinutes  genres  averageRating  numVotes  directors  \\\n936       1915            195     324            6.3   22122.0      428.0   \n1937      1916            163      25            7.8   13835.0      428.0   \n4436      1920             76    1081            8.1   55301.0   927468.0   \n6047      1921             68     424            8.3  108411.0      122.0   \n6807      1922             91     620            7.7   11721.0   159725.0   \n\n                                                writers  \\\n936                       nm0228746,nm0000428,nm0940488   \n1937  nm0048512,nm0115218,nm0000428,nm0002616,nm0640...   \n4436                                nm0562346,nm0417917   \n6047                                          nm0000122   \n6807                                          nm0159725   \n\n                                                 nconst  \n936                                           nm0910400  \n1937                                nm0366008,nm0877548  \n4436                      nm0470328,nm0891998,nm0270415  \n6047  nm0088471,nm0000122,nm0001067,nm0588033,nm0042...  \n6807                                          nm0159725  ",
      "text/html": "<div>\n<style scoped>\n    .dataframe tbody tr th:only-of-type {\n        vertical-align: middle;\n    }\n\n    .dataframe tbody tr th {\n        vertical-align: top;\n    }\n\n    .dataframe thead th {\n        text-align: right;\n    }\n</style>\n<table border=\"1\" class=\"dataframe\">\n  <thead>\n    <tr style=\"text-align: right;\">\n      <th></th>\n      <th>startYear</th>\n      <th>runtimeMinutes</th>\n      <th>genres</th>\n      <th>averageRating</th>\n      <th>numVotes</th>\n      <th>directors</th>\n      <th>writers</th>\n      <th>nconst</th>\n    </tr>\n  </thead>\n  <tbody>\n    <tr>\n      <th>936</th>\n      <td>1915</td>\n      <td>195</td>\n      <td>324</td>\n      <td>6.3</td>\n      <td>22122.0</td>\n      <td>428.0</td>\n      <td>nm0228746,nm0000428,nm0940488</td>\n      <td>nm0910400</td>\n    </tr>\n    <tr>\n      <th>1937</th>\n      <td>1916</td>\n      <td>163</td>\n      <td>25</td>\n      <td>7.8</td>\n      <td>13835.0</td>\n      <td>428.0</td>\n      <td>nm0048512,nm0115218,nm0000428,nm0002616,nm0640...</td>\n      <td>nm0366008,nm0877548</td>\n    </tr>\n    <tr>\n      <th>4436</th>\n      <td>1920</td>\n      <td>76</td>\n      <td>1081</td>\n      <td>8.1</td>\n      <td>55301.0</td>\n      <td>927468.0</td>\n      <td>nm0562346,nm0417917</td>\n      <td>nm0470328,nm0891998,nm0270415</td>\n    </tr>\n    <tr>\n      <th>6047</th>\n      <td>1921</td>\n      <td>68</td>\n      <td>424</td>\n      <td>8.3</td>\n      <td>108411.0</td>\n      <td>122.0</td>\n      <td>nm0000122</td>\n      <td>nm0088471,nm0000122,nm0001067,nm0588033,nm0042...</td>\n    </tr>\n    <tr>\n      <th>6807</th>\n      <td>1922</td>\n      <td>91</td>\n      <td>620</td>\n      <td>7.7</td>\n      <td>11721.0</td>\n      <td>159725.0</td>\n      <td>nm0159725</td>\n      <td>nm0159725</td>\n    </tr>\n  </tbody>\n</table>\n</div>"
     },
     "metadata": {},
     "execution_count": 324
    }
   ],
   "source": [
    "df6.genres = df6.genres.apply(getGenreCombo)\n",
    "df6.head()"
   ]
  },
  {
   "cell_type": "code",
   "execution_count": 325,
   "metadata": {},
   "outputs": [
    {
     "output_type": "execute_result",
     "data": {
      "text/plain": "     startYear runtimeMinutes  genres  averageRating  numVotes  directors  \\\n936       1915            195     324            6.3   22122.0      428.0   \n1937      1916            163      25            7.8   13835.0      428.0   \n4436      1920             76    1081            8.1   55301.0   927468.0   \n6047      1921             68     424            8.3  108411.0      122.0   \n6807      1922             91     620            7.7   11721.0   159725.0   \n\n                                                writers  \\\n936                       nm0228746,nm0000428,nm0940488   \n1937  nm0048512,nm0115218,nm0000428,nm0002616,nm0640...   \n4436                                nm0562346,nm0417917   \n6047                                          nm0000122   \n6807                                          nm0159725   \n\n                                                 nconst  \n936                                           nm0910400  \n1937                                nm0366008,nm0877548  \n4436                      nm0470328,nm0891998,nm0270415  \n6047  nm0088471,nm0000122,nm0001067,nm0588033,nm0042...  \n6807                                          nm0159725  ",
      "text/html": "<div>\n<style scoped>\n    .dataframe tbody tr th:only-of-type {\n        vertical-align: middle;\n    }\n\n    .dataframe tbody tr th {\n        vertical-align: top;\n    }\n\n    .dataframe thead th {\n        text-align: right;\n    }\n</style>\n<table border=\"1\" class=\"dataframe\">\n  <thead>\n    <tr style=\"text-align: right;\">\n      <th></th>\n      <th>startYear</th>\n      <th>runtimeMinutes</th>\n      <th>genres</th>\n      <th>averageRating</th>\n      <th>numVotes</th>\n      <th>directors</th>\n      <th>writers</th>\n      <th>nconst</th>\n    </tr>\n  </thead>\n  <tbody>\n    <tr>\n      <th>936</th>\n      <td>1915</td>\n      <td>195</td>\n      <td>324</td>\n      <td>6.3</td>\n      <td>22122.0</td>\n      <td>428.0</td>\n      <td>nm0228746,nm0000428,nm0940488</td>\n      <td>nm0910400</td>\n    </tr>\n    <tr>\n      <th>1937</th>\n      <td>1916</td>\n      <td>163</td>\n      <td>25</td>\n      <td>7.8</td>\n      <td>13835.0</td>\n      <td>428.0</td>\n      <td>nm0048512,nm0115218,nm0000428,nm0002616,nm0640...</td>\n      <td>nm0366008,nm0877548</td>\n    </tr>\n    <tr>\n      <th>4436</th>\n      <td>1920</td>\n      <td>76</td>\n      <td>1081</td>\n      <td>8.1</td>\n      <td>55301.0</td>\n      <td>927468.0</td>\n      <td>nm0562346,nm0417917</td>\n      <td>nm0470328,nm0891998,nm0270415</td>\n    </tr>\n    <tr>\n      <th>6047</th>\n      <td>1921</td>\n      <td>68</td>\n      <td>424</td>\n      <td>8.3</td>\n      <td>108411.0</td>\n      <td>122.0</td>\n      <td>nm0000122</td>\n      <td>nm0088471,nm0000122,nm0001067,nm0588033,nm0042...</td>\n    </tr>\n    <tr>\n      <th>6807</th>\n      <td>1922</td>\n      <td>91</td>\n      <td>620</td>\n      <td>7.7</td>\n      <td>11721.0</td>\n      <td>159725.0</td>\n      <td>nm0159725</td>\n      <td>nm0159725</td>\n    </tr>\n  </tbody>\n</table>\n</div>"
     },
     "metadata": {},
     "execution_count": 325
    }
   ],
   "source": [
    "df6.head()"
   ]
  },
  {
   "cell_type": "code",
   "execution_count": 326,
   "metadata": {},
   "outputs": [
    {
     "output_type": "execute_result",
     "data": {
      "text/plain": "       startYear runtimeMinutes  genres  averageRating   numVotes  directors  \\\n144278      1975             87      30            9.3    36163.0   251027.0   \n77820       1994            142       1            9.3  2270157.0     1104.0   \n368745      2013            139     149            9.2    43342.0  2339782.0   \n50222       1972            175      41            9.2  1565883.0      338.0   \n522753      2020            101     428            9.1    93621.0  2535507.0   \n...          ...            ...     ...            ...        ...        ...   \n321381      2011            105     187            1.6    75066.0   160840.0   \n414120      2014             79     148            1.4    14788.0   229544.0   \n471077      2017            108      38            1.4    72142.0  1760911.0   \n426903      2015            114     141            1.3    27075.0  2930027.0   \n502363      2017            100       7            1.0    37563.0  9107963.0   \n\n                                                  writers  \\\n144278                                nm0119457,nm0407642   \n77820                                 nm0000175,nm0001104   \n368745                                          nm0948000   \n50222                                 nm0701374,nm0000338   \n522753  nm4264671,nm7929999,nm2354099,nm2352210,nm1981261   \n...                                                   ...   \n321381                                                 \\N   \n414120                                nm0229544,nm6805281   \n471077                                          nm8890606   \n426903                                                 \\N   \n502363                      nm9180829,nm9107963,nm9107965   \n\n                                                   nconst  \n144278            nm0839017,nm0654805,nm0015145,nm0015081  \n77820             nm0000209,nm0000151,nm0348409,nm0006669  \n368745                                                NaN  \n50222                       nm0000008,nm0000199,nm0001001  \n522753                      nm3818286,nm1306410,nm1384413  \n...                                                   ...  \n321381                                                NaN  \n414120                      nm0131647,nm0229544,nm3955339  \n471077  nm2900622,nm1055050,nm1513231,nm5589612,nm1758900  \n426903  nm0876570,nm1203229,nm1127784,nm0477978,nm2127...  \n502363                      nm7835997,nm7038164,nm7314835  \n\n[8638 rows x 8 columns]",
      "text/html": "<div>\n<style scoped>\n    .dataframe tbody tr th:only-of-type {\n        vertical-align: middle;\n    }\n\n    .dataframe tbody tr th {\n        vertical-align: top;\n    }\n\n    .dataframe thead th {\n        text-align: right;\n    }\n</style>\n<table border=\"1\" class=\"dataframe\">\n  <thead>\n    <tr style=\"text-align: right;\">\n      <th></th>\n      <th>startYear</th>\n      <th>runtimeMinutes</th>\n      <th>genres</th>\n      <th>averageRating</th>\n      <th>numVotes</th>\n      <th>directors</th>\n      <th>writers</th>\n      <th>nconst</th>\n    </tr>\n  </thead>\n  <tbody>\n    <tr>\n      <th>144278</th>\n      <td>1975</td>\n      <td>87</td>\n      <td>30</td>\n      <td>9.3</td>\n      <td>36163.0</td>\n      <td>251027.0</td>\n      <td>nm0119457,nm0407642</td>\n      <td>nm0839017,nm0654805,nm0015145,nm0015081</td>\n    </tr>\n    <tr>\n      <th>77820</th>\n      <td>1994</td>\n      <td>142</td>\n      <td>1</td>\n      <td>9.3</td>\n      <td>2270157.0</td>\n      <td>1104.0</td>\n      <td>nm0000175,nm0001104</td>\n      <td>nm0000209,nm0000151,nm0348409,nm0006669</td>\n    </tr>\n    <tr>\n      <th>368745</th>\n      <td>2013</td>\n      <td>139</td>\n      <td>149</td>\n      <td>9.2</td>\n      <td>43342.0</td>\n      <td>2339782.0</td>\n      <td>nm0948000</td>\n      <td>NaN</td>\n    </tr>\n    <tr>\n      <th>50222</th>\n      <td>1972</td>\n      <td>175</td>\n      <td>41</td>\n      <td>9.2</td>\n      <td>1565883.0</td>\n      <td>338.0</td>\n      <td>nm0701374,nm0000338</td>\n      <td>nm0000008,nm0000199,nm0001001</td>\n    </tr>\n    <tr>\n      <th>522753</th>\n      <td>2020</td>\n      <td>101</td>\n      <td>428</td>\n      <td>9.1</td>\n      <td>93621.0</td>\n      <td>2535507.0</td>\n      <td>nm4264671,nm7929999,nm2354099,nm2352210,nm1981261</td>\n      <td>nm3818286,nm1306410,nm1384413</td>\n    </tr>\n    <tr>\n      <th>...</th>\n      <td>...</td>\n      <td>...</td>\n      <td>...</td>\n      <td>...</td>\n      <td>...</td>\n      <td>...</td>\n      <td>...</td>\n      <td>...</td>\n    </tr>\n    <tr>\n      <th>321381</th>\n      <td>2011</td>\n      <td>105</td>\n      <td>187</td>\n      <td>1.6</td>\n      <td>75066.0</td>\n      <td>160840.0</td>\n      <td>\\N</td>\n      <td>NaN</td>\n    </tr>\n    <tr>\n      <th>414120</th>\n      <td>2014</td>\n      <td>79</td>\n      <td>148</td>\n      <td>1.4</td>\n      <td>14788.0</td>\n      <td>229544.0</td>\n      <td>nm0229544,nm6805281</td>\n      <td>nm0131647,nm0229544,nm3955339</td>\n    </tr>\n    <tr>\n      <th>471077</th>\n      <td>2017</td>\n      <td>108</td>\n      <td>38</td>\n      <td>1.4</td>\n      <td>72142.0</td>\n      <td>1760911.0</td>\n      <td>nm8890606</td>\n      <td>nm2900622,nm1055050,nm1513231,nm5589612,nm1758900</td>\n    </tr>\n    <tr>\n      <th>426903</th>\n      <td>2015</td>\n      <td>114</td>\n      <td>141</td>\n      <td>1.3</td>\n      <td>27075.0</td>\n      <td>2930027.0</td>\n      <td>\\N</td>\n      <td>nm0876570,nm1203229,nm1127784,nm0477978,nm2127...</td>\n    </tr>\n    <tr>\n      <th>502363</th>\n      <td>2017</td>\n      <td>100</td>\n      <td>7</td>\n      <td>1.0</td>\n      <td>37563.0</td>\n      <td>9107963.0</td>\n      <td>nm9180829,nm9107963,nm9107965</td>\n      <td>nm7835997,nm7038164,nm7314835</td>\n    </tr>\n  </tbody>\n</table>\n<p>8638 rows × 8 columns</p>\n</div>"
     },
     "metadata": {},
     "execution_count": 326
    }
   ],
   "source": [
    "dfpop = df6.sort_values(['averageRating'], ascending=False)\n",
    "dfpop"
   ]
  },
  {
   "cell_type": "code",
   "execution_count": 335,
   "metadata": {},
   "outputs": [
    {
     "output_type": "execute_result",
     "data": {
      "text/plain": "      tconst  isAdult startYear runtimeMinutes                  genres  \\\n0  tt0000009        0      1894             45                 Romance   \n1  tt0000147        0      1897             20  Documentary,News,Sport   \n2  tt0000335        0      1900             \\N         Biography,Drama   \n3  tt0000502        0      1905            100                      \\N   \n4  tt0000574        0      1906             70   Biography,Crime,Drama   \n\n   averageRating  numVotes            directors                        writers  \n0            5.9     154.0            nm0085156                      nm0085156  \n1            5.2     355.0            nm0714557                             \\N  \n2            6.1      41.0  nm0095714,nm0675140                             \\N  \n3            3.8       6.0            nm0063413  nm0063413,nm0657268,nm0675388  \n4            6.1     588.0            nm0846879                      nm0846879  ",
      "text/html": "<div>\n<style scoped>\n    .dataframe tbody tr th:only-of-type {\n        vertical-align: middle;\n    }\n\n    .dataframe tbody tr th {\n        vertical-align: top;\n    }\n\n    .dataframe thead th {\n        text-align: right;\n    }\n</style>\n<table border=\"1\" class=\"dataframe\">\n  <thead>\n    <tr style=\"text-align: right;\">\n      <th></th>\n      <th>tconst</th>\n      <th>isAdult</th>\n      <th>startYear</th>\n      <th>runtimeMinutes</th>\n      <th>genres</th>\n      <th>averageRating</th>\n      <th>numVotes</th>\n      <th>directors</th>\n      <th>writers</th>\n    </tr>\n  </thead>\n  <tbody>\n    <tr>\n      <th>0</th>\n      <td>tt0000009</td>\n      <td>0</td>\n      <td>1894</td>\n      <td>45</td>\n      <td>Romance</td>\n      <td>5.9</td>\n      <td>154.0</td>\n      <td>nm0085156</td>\n      <td>nm0085156</td>\n    </tr>\n    <tr>\n      <th>1</th>\n      <td>tt0000147</td>\n      <td>0</td>\n      <td>1897</td>\n      <td>20</td>\n      <td>Documentary,News,Sport</td>\n      <td>5.2</td>\n      <td>355.0</td>\n      <td>nm0714557</td>\n      <td>\\N</td>\n    </tr>\n    <tr>\n      <th>2</th>\n      <td>tt0000335</td>\n      <td>0</td>\n      <td>1900</td>\n      <td>\\N</td>\n      <td>Biography,Drama</td>\n      <td>6.1</td>\n      <td>41.0</td>\n      <td>nm0095714,nm0675140</td>\n      <td>\\N</td>\n    </tr>\n    <tr>\n      <th>3</th>\n      <td>tt0000502</td>\n      <td>0</td>\n      <td>1905</td>\n      <td>100</td>\n      <td>\\N</td>\n      <td>3.8</td>\n      <td>6.0</td>\n      <td>nm0063413</td>\n      <td>nm0063413,nm0657268,nm0675388</td>\n    </tr>\n    <tr>\n      <th>4</th>\n      <td>tt0000574</td>\n      <td>0</td>\n      <td>1906</td>\n      <td>70</td>\n      <td>Biography,Crime,Drama</td>\n      <td>6.1</td>\n      <td>588.0</td>\n      <td>nm0846879</td>\n      <td>nm0846879</td>\n    </tr>\n  </tbody>\n</table>\n</div>"
     },
     "metadata": {},
     "execution_count": 335
    }
   ],
   "source": [
    "dfpop = pd.merge(df1,crew,on='tconst',how='left')\n",
    "dfpop.head()"
   ]
  },
  {
   "cell_type": "code",
   "execution_count": 354,
   "metadata": {
    "tags": []
   },
   "outputs": [
    {
     "output_type": "error",
     "ename": "TypeError",
     "evalue": "'NoneType' object is not subscriptable",
     "traceback": [
      "\u001b[0;31m---------------------------------------------------------------------------\u001b[0m",
      "\u001b[0;31mTypeError\u001b[0m                                 Traceback (most recent call last)",
      "\u001b[0;32m<ipython-input-354-e4c5c17544f8>\u001b[0m in \u001b[0;36m<module>\u001b[0;34m\u001b[0m\n\u001b[0;32m----> 1\u001b[0;31m \u001b[0mdfpop\u001b[0m\u001b[0;34m.\u001b[0m\u001b[0mdirectors\u001b[0m \u001b[0;34m=\u001b[0m \u001b[0mdfpop\u001b[0m\u001b[0;34m.\u001b[0m\u001b[0mdirectors\u001b[0m\u001b[0;34m.\u001b[0m\u001b[0mapply\u001b[0m\u001b[0;34m(\u001b[0m\u001b[0mfirstName\u001b[0m\u001b[0;34m)\u001b[0m\u001b[0;34m\u001b[0m\u001b[0;34m\u001b[0m\u001b[0m\n\u001b[0m",
      "\u001b[0;32m~/anaconda3/lib/python3.8/site-packages/pandas/core/series.py\u001b[0m in \u001b[0;36mapply\u001b[0;34m(self, func, convert_dtype, args, **kwds)\u001b[0m\n\u001b[1;32m   3846\u001b[0m             \u001b[0;32melse\u001b[0m\u001b[0;34m:\u001b[0m\u001b[0;34m\u001b[0m\u001b[0;34m\u001b[0m\u001b[0m\n\u001b[1;32m   3847\u001b[0m                 \u001b[0mvalues\u001b[0m \u001b[0;34m=\u001b[0m \u001b[0mself\u001b[0m\u001b[0;34m.\u001b[0m\u001b[0mastype\u001b[0m\u001b[0;34m(\u001b[0m\u001b[0mobject\u001b[0m\u001b[0;34m)\u001b[0m\u001b[0;34m.\u001b[0m\u001b[0mvalues\u001b[0m\u001b[0;34m\u001b[0m\u001b[0;34m\u001b[0m\u001b[0m\n\u001b[0;32m-> 3848\u001b[0;31m                 \u001b[0mmapped\u001b[0m \u001b[0;34m=\u001b[0m \u001b[0mlib\u001b[0m\u001b[0;34m.\u001b[0m\u001b[0mmap_infer\u001b[0m\u001b[0;34m(\u001b[0m\u001b[0mvalues\u001b[0m\u001b[0;34m,\u001b[0m \u001b[0mf\u001b[0m\u001b[0;34m,\u001b[0m \u001b[0mconvert\u001b[0m\u001b[0;34m=\u001b[0m\u001b[0mconvert_dtype\u001b[0m\u001b[0;34m)\u001b[0m\u001b[0;34m\u001b[0m\u001b[0;34m\u001b[0m\u001b[0m\n\u001b[0m\u001b[1;32m   3849\u001b[0m \u001b[0;34m\u001b[0m\u001b[0m\n\u001b[1;32m   3850\u001b[0m         \u001b[0;32mif\u001b[0m \u001b[0mlen\u001b[0m\u001b[0;34m(\u001b[0m\u001b[0mmapped\u001b[0m\u001b[0;34m)\u001b[0m \u001b[0;32mand\u001b[0m \u001b[0misinstance\u001b[0m\u001b[0;34m(\u001b[0m\u001b[0mmapped\u001b[0m\u001b[0;34m[\u001b[0m\u001b[0;36m0\u001b[0m\u001b[0;34m]\u001b[0m\u001b[0;34m,\u001b[0m \u001b[0mSeries\u001b[0m\u001b[0;34m)\u001b[0m\u001b[0;34m:\u001b[0m\u001b[0;34m\u001b[0m\u001b[0;34m\u001b[0m\u001b[0m\n",
      "\u001b[0;32mpandas/_libs/lib.pyx\u001b[0m in \u001b[0;36mpandas._libs.lib.map_infer\u001b[0;34m()\u001b[0m\n",
      "\u001b[0;32m<ipython-input-321-1ae329db9b4a>\u001b[0m in \u001b[0;36mfirstName\u001b[0;34m(string)\u001b[0m\n\u001b[1;32m      1\u001b[0m \u001b[0;31m#convert array of directors into single number value representing each director\u001b[0m\u001b[0;34m\u001b[0m\u001b[0;34m\u001b[0m\u001b[0;34m\u001b[0m\u001b[0m\n\u001b[1;32m      2\u001b[0m \u001b[0;32mdef\u001b[0m \u001b[0mfirstName\u001b[0m\u001b[0;34m(\u001b[0m\u001b[0mstring\u001b[0m\u001b[0;34m)\u001b[0m\u001b[0;34m:\u001b[0m\u001b[0;34m\u001b[0m\u001b[0;34m\u001b[0m\u001b[0m\n\u001b[0;32m----> 3\u001b[0;31m     \u001b[0;32mreturn\u001b[0m \u001b[0mstring\u001b[0m\u001b[0;34m[\u001b[0m\u001b[0;36m2\u001b[0m\u001b[0;34m:\u001b[0m\u001b[0;34m]\u001b[0m\u001b[0;34m.\u001b[0m\u001b[0msplit\u001b[0m\u001b[0;34m(\u001b[0m\u001b[0;34m','\u001b[0m\u001b[0;34m,\u001b[0m \u001b[0;36m1\u001b[0m\u001b[0;34m)\u001b[0m\u001b[0;34m[\u001b[0m\u001b[0;36m0\u001b[0m\u001b[0;34m]\u001b[0m\u001b[0;34m\u001b[0m\u001b[0;34m\u001b[0m\u001b[0m\n\u001b[0m\u001b[1;32m      4\u001b[0m \u001b[0;34m\u001b[0m\u001b[0m\n\u001b[1;32m      5\u001b[0m \u001b[0mdf6\u001b[0m\u001b[0;34m.\u001b[0m\u001b[0mdirectors\u001b[0m \u001b[0;34m=\u001b[0m \u001b[0mpd\u001b[0m\u001b[0;34m.\u001b[0m\u001b[0mto_numeric\u001b[0m\u001b[0;34m(\u001b[0m\u001b[0mdf6\u001b[0m\u001b[0;34m.\u001b[0m\u001b[0mdirectors\u001b[0m\u001b[0;34m.\u001b[0m\u001b[0mapply\u001b[0m\u001b[0;34m(\u001b[0m\u001b[0mfirstName\u001b[0m\u001b[0;34m)\u001b[0m\u001b[0;34m)\u001b[0m\u001b[0;34m\u001b[0m\u001b[0;34m\u001b[0m\u001b[0m\n",
      "\u001b[0;31mTypeError\u001b[0m: 'NoneType' object is not subscriptable"
     ]
    }
   ],
   "source": [
    "dfpop.directors = dfpop.directors.apply(firstName)"
   ]
  },
  {
   "cell_type": "code",
   "execution_count": 356,
   "metadata": {},
   "outputs": [
    {
     "output_type": "execute_result",
     "data": {
      "text/plain": "638"
     },
     "metadata": {},
     "execution_count": 356
    }
   ],
   "source": [
    "getGenreCombo('History,Fantasy,News')z"
   ]
  },
  {
   "cell_type": "code",
   "execution_count": 360,
   "metadata": {},
   "outputs": [
    {
     "output_type": "execute_result",
     "data": {
      "text/plain": "       startYear runtimeMinutes  genres  averageRating   numVotes  directors  \\\n80440       1996            101     148            5.3    10006.0   262693.0   \n11394       1928             76     424            8.1    10007.0   781292.0   \n23273       1941            116      35            8.0    10008.0   943758.0   \n37830       1958             93     352            7.3    10009.0   936404.0   \n530850      2019             85     428            6.1    10009.0    53228.0   \n...          ...            ...     ...            ...        ...        ...   \n77657       1994            154      41            8.9  1774104.0      233.0   \n91880       1999            139       1            8.8  1801220.0      399.0   \n299289      2010            148    2080            8.8  1991458.0   634240.0   \n210613      2008            152     479            9.0  2233191.0   634240.0   \n77820       1994            142       1            9.3  2270157.0     1104.0   \n\n                                                  writers  \\\n80440                                           nm0445552   \n11394   nm0115669,nm0513858,nm0267868,nm0090213,nm0604526   \n23273             nm0375484,nm0462111,nm0662213,nm0132180   \n37830                                 nm0310775,nm0063459   \n530850                                nm0229800,nm0229801   \n...                                                   ...   \n77657                                 nm0000233,nm0000812   \n91880                                 nm0657333,nm0880243   \n299289                                          nm0634240   \n210613            nm0634300,nm0634240,nm0333060,nm0004170   \n77820                                 nm0000175,nm0001104   \n\n                                         nconst  \n80440   nm0005435,nm0682302,nm0101711,nm0124079  \n11394             nm0000036,nm0329467,nm0102718  \n23273                       nm0003339,nm0137999  \n37830   nm0000022,nm0000044,nm0912001,nm0223290  \n530850            nm0000507,nm1283879,nm7619737  \n...                                         ...  \n77657             nm0000237,nm0000168,nm0000246  \n91880   nm0000093,nm0001570,nm0001533,nm0340260  \n299289            nm0000138,nm0330687,nm0913822  \n210613  nm0000288,nm0005132,nm0001173,nm0000323  \n77820   nm0000209,nm0000151,nm0348409,nm0006669  \n\n[8638 rows x 8 columns]",
      "text/html": "<div>\n<style scoped>\n    .dataframe tbody tr th:only-of-type {\n        vertical-align: middle;\n    }\n\n    .dataframe tbody tr th {\n        vertical-align: top;\n    }\n\n    .dataframe thead th {\n        text-align: right;\n    }\n</style>\n<table border=\"1\" class=\"dataframe\">\n  <thead>\n    <tr style=\"text-align: right;\">\n      <th></th>\n      <th>startYear</th>\n      <th>runtimeMinutes</th>\n      <th>genres</th>\n      <th>averageRating</th>\n      <th>numVotes</th>\n      <th>directors</th>\n      <th>writers</th>\n      <th>nconst</th>\n    </tr>\n  </thead>\n  <tbody>\n    <tr>\n      <th>80440</th>\n      <td>1996</td>\n      <td>101</td>\n      <td>148</td>\n      <td>5.3</td>\n      <td>10006.0</td>\n      <td>262693.0</td>\n      <td>nm0445552</td>\n      <td>nm0005435,nm0682302,nm0101711,nm0124079</td>\n    </tr>\n    <tr>\n      <th>11394</th>\n      <td>1928</td>\n      <td>76</td>\n      <td>424</td>\n      <td>8.1</td>\n      <td>10007.0</td>\n      <td>781292.0</td>\n      <td>nm0115669,nm0513858,nm0267868,nm0090213,nm0604526</td>\n      <td>nm0000036,nm0329467,nm0102718</td>\n    </tr>\n    <tr>\n      <th>23273</th>\n      <td>1941</td>\n      <td>116</td>\n      <td>35</td>\n      <td>8.0</td>\n      <td>10008.0</td>\n      <td>943758.0</td>\n      <td>nm0375484,nm0462111,nm0662213,nm0132180</td>\n      <td>nm0003339,nm0137999</td>\n    </tr>\n    <tr>\n      <th>37830</th>\n      <td>1958</td>\n      <td>93</td>\n      <td>352</td>\n      <td>7.3</td>\n      <td>10009.0</td>\n      <td>936404.0</td>\n      <td>nm0310775,nm0063459</td>\n      <td>nm0000022,nm0000044,nm0912001,nm0223290</td>\n    </tr>\n    <tr>\n      <th>530850</th>\n      <td>2019</td>\n      <td>85</td>\n      <td>428</td>\n      <td>6.1</td>\n      <td>10009.0</td>\n      <td>53228.0</td>\n      <td>nm0229800,nm0229801</td>\n      <td>nm0000507,nm1283879,nm7619737</td>\n    </tr>\n    <tr>\n      <th>...</th>\n      <td>...</td>\n      <td>...</td>\n      <td>...</td>\n      <td>...</td>\n      <td>...</td>\n      <td>...</td>\n      <td>...</td>\n      <td>...</td>\n    </tr>\n    <tr>\n      <th>77657</th>\n      <td>1994</td>\n      <td>154</td>\n      <td>41</td>\n      <td>8.9</td>\n      <td>1774104.0</td>\n      <td>233.0</td>\n      <td>nm0000233,nm0000812</td>\n      <td>nm0000237,nm0000168,nm0000246</td>\n    </tr>\n    <tr>\n      <th>91880</th>\n      <td>1999</td>\n      <td>139</td>\n      <td>1</td>\n      <td>8.8</td>\n      <td>1801220.0</td>\n      <td>399.0</td>\n      <td>nm0657333,nm0880243</td>\n      <td>nm0000093,nm0001570,nm0001533,nm0340260</td>\n    </tr>\n    <tr>\n      <th>299289</th>\n      <td>2010</td>\n      <td>148</td>\n      <td>2080</td>\n      <td>8.8</td>\n      <td>1991458.0</td>\n      <td>634240.0</td>\n      <td>nm0634240</td>\n      <td>nm0000138,nm0330687,nm0913822</td>\n    </tr>\n    <tr>\n      <th>210613</th>\n      <td>2008</td>\n      <td>152</td>\n      <td>479</td>\n      <td>9.0</td>\n      <td>2233191.0</td>\n      <td>634240.0</td>\n      <td>nm0634300,nm0634240,nm0333060,nm0004170</td>\n      <td>nm0000288,nm0005132,nm0001173,nm0000323</td>\n    </tr>\n    <tr>\n      <th>77820</th>\n      <td>1994</td>\n      <td>142</td>\n      <td>1</td>\n      <td>9.3</td>\n      <td>2270157.0</td>\n      <td>1104.0</td>\n      <td>nm0000175,nm0001104</td>\n      <td>nm0000209,nm0000151,nm0348409,nm0006669</td>\n    </tr>\n  </tbody>\n</table>\n<p>8638 rows × 8 columns</p>\n</div>"
     },
     "metadata": {},
     "execution_count": 360
    }
   ],
   "source": [
    "df6.sort_values(by=['numVotes']) "
   ]
  },
  {
   "cell_type": "code",
   "execution_count": null,
   "metadata": {},
   "outputs": [],
   "source": []
  }
 ],
 "metadata": {
  "kernelspec": {
   "display_name": "Python 3.8.3 64-bit ('base': conda)",
   "language": "python",
   "name": "python_defaultSpec_1596931502967"
  },
  "language_info": {
   "codemirror_mode": {
    "name": "ipython",
    "version": 3
   },
   "file_extension": ".py",
   "mimetype": "text/x-python",
   "name": "python",
   "nbconvert_exporter": "python",
   "pygments_lexer": "ipython3",
   "version": "3.8.3-final"
  }
 },
 "nbformat": 4,
 "nbformat_minor": 4
}